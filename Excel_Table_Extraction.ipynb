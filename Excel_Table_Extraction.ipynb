{
  "nbformat": 4,
  "nbformat_minor": 0,
  "metadata": {
    "colab": {
      "provenance": []
    },
    "kernelspec": {
      "name": "python3",
      "display_name": "Python 3"
    },
    "language_info": {
      "name": "python"
    }
  },
  "cells": [
    {
      "cell_type": "markdown",
      "source": [
        "**Step 1:** Install the required libraries."
      ],
      "metadata": {
        "id": "ABR2AbdNhv4p"
      }
    },
    {
      "cell_type": "code",
      "source": [
        "!pip install tabula-py"
      ],
      "metadata": {
        "id": "PoRo68hygXWo",
        "outputId": "ef2b3646-fbe5-43cd-d166-c6585c7c6c16",
        "colab": {
          "base_uri": "https://localhost:8080/"
        }
      },
      "execution_count": 23,
      "outputs": [
        {
          "output_type": "stream",
          "name": "stdout",
          "text": [
            "Looking in indexes: https://pypi.org/simple, https://us-python.pkg.dev/colab-wheels/public/simple/\n",
            "Requirement already satisfied: tabula-py in /usr/local/lib/python3.8/dist-packages (2.6.0)\n",
            "Requirement already satisfied: distro in /usr/local/lib/python3.8/dist-packages (from tabula-py) (1.8.0)\n",
            "Requirement already satisfied: pandas>=0.25.3 in /usr/local/lib/python3.8/dist-packages (from tabula-py) (1.3.5)\n",
            "Requirement already satisfied: numpy in /usr/local/lib/python3.8/dist-packages (from tabula-py) (1.21.6)\n",
            "Requirement already satisfied: pytz>=2017.3 in /usr/local/lib/python3.8/dist-packages (from pandas>=0.25.3->tabula-py) (2022.7)\n",
            "Requirement already satisfied: python-dateutil>=2.7.3 in /usr/local/lib/python3.8/dist-packages (from pandas>=0.25.3->tabula-py) (2.8.2)\n",
            "Requirement already satisfied: six>=1.5 in /usr/local/lib/python3.8/dist-packages (from python-dateutil>=2.7.3->pandas>=0.25.3->tabula-py) (1.15.0)\n"
          ]
        }
      ]
    },
    {
      "cell_type": "markdown",
      "source": [],
      "metadata": {
        "id": "e9hTW4fbiLOf"
      }
    },
    {
      "cell_type": "code",
      "source": [
        "import tabula"
      ],
      "metadata": {
        "id": "qPSw50VQgcEm"
      },
      "execution_count": 24,
      "outputs": []
    },
    {
      "cell_type": "markdown",
      "source": [
        "**Step 2:** Specify the location of the desired document."
      ],
      "metadata": {
        "id": "3c5b1tEth6u2"
      }
    },
    {
      "cell_type": "code",
      "source": [
        "file = \"/content/PR143.pdf\""
      ],
      "metadata": {
        "id": "1EJm54eAUFoN"
      },
      "execution_count": 9,
      "outputs": []
    },
    {
      "cell_type": "markdown",
      "source": [
        "**Step 3:** parse the pdf document and the page containing the table into the read_pdf function. This will extract a list of tables if present or generate an error if the page number passed contains no table."
      ],
      "metadata": {
        "id": "otTnYHg3jW2c"
      }
    },
    {
      "cell_type": "code",
      "source": [
        "table = tabula.read_pdf(file,pages=19)\n",
        "print(\"Page passed contains {} tables\".format(len(table)))"
      ],
      "metadata": {
        "id": "-tFPLWLigf-4",
        "outputId": "6409c8c2-d2f8-4de1-bf5c-25a012db3153",
        "colab": {
          "base_uri": "https://localhost:8080/"
        }
      },
      "execution_count": 31,
      "outputs": [
        {
          "output_type": "stream",
          "name": "stderr",
          "text": [
            "WARNING:tabula.io:Got stderr: Jan 18, 2023 8:29:33 PM org.apache.pdfbox.pdmodel.font.PDTrueTypeFont <init>\n",
            "WARNING: Using fallback font 'LiberationSans' for 'TimesNewRomanPSMT'\n",
            "Jan 18, 2023 8:29:33 PM org.apache.pdfbox.pdmodel.font.PDTrueTypeFont <init>\n",
            "WARNING: Using fallback font 'LiberationSans-Bold' for 'TimesNewRomanPS-BoldMT'\n",
            "Jan 18, 2023 8:29:35 PM org.apache.pdfbox.pdmodel.font.PDTrueTypeFont <init>\n",
            "WARNING: Using fallback font 'LiberationSans' for 'TimesNewRomanPSMT'\n",
            "Jan 18, 2023 8:29:35 PM org.apache.pdfbox.pdmodel.font.PDTrueTypeFont <init>\n",
            "WARNING: Using fallback font 'LiberationSans-Bold' for 'TimesNewRomanPS-BoldMT'\n",
            "\n"
          ]
        },
        {
          "output_type": "stream",
          "name": "stdout",
          "text": [
            "Page passed contains 1 tables\n"
          ]
        }
      ]
    },
    {
      "cell_type": "markdown",
      "source": [
        "**Step 4:** View table"
      ],
      "metadata": {
        "id": "e8yy7A24ksLA"
      }
    },
    {
      "cell_type": "code",
      "source": [
        "table[0]"
      ],
      "metadata": {
        "id": "PiC0K2maj-mT",
        "outputId": "e2f116fc-67f4-486f-8c53-5aec12306749",
        "colab": {
          "base_uri": "https://localhost:8080/",
          "height": 1000
        }
      },
      "execution_count": 32,
      "outputs": [
        {
          "output_type": "execute_result",
          "data": {
            "text/plain": [
              "                                      Unnamed: 0             Residence\n",
              "0                                         Result     Urban Rural Total\n",
              "1                                            NaN        ALL HOUSEHOLDS\n",
              "2                           Household interviews                   NaN\n",
              "3                            Households selected  16,611 25,411 42,022\n",
              "4                            Households occupied  14,870 23,861 38,731\n",
              "5                         Households interviewed  14,330 23,581 37,911\n",
              "6                                            NaN                   NaN\n",
              "7                       Household response rate1        96.4 98.8 97.9\n",
              "8                                            NaN                   NaN\n",
              "9                Interviews with women age 15–49                   NaN\n",
              "10                      Number of eligible women  13,129 20,750 33,879\n",
              "11          Number of eligible women interviewed  12,386 19,770 32,156\n",
              "12                                           NaN                   NaN\n",
              "13                 Eligible women response rate2        94.3 95.3 94.9\n",
              "14   HOUSEHOLDS SELECTED FOR FULL QUESTIONNAIRES                   NaN\n",
              "15                          Household interviews                   NaN\n",
              "16                           Households selected   8,657 13,312 21,969\n",
              "17                           Households occupied   7,725 12,469 20,194\n",
              "18                        Households interviewed   7,429 12,318 19,747\n",
              "19                                           NaN                   NaN\n",
              "20                      Household response rate1        96.2 98.8 97.8\n",
              "21                                           NaN                   NaN\n",
              "22               Interviews with women age 15–49                   NaN\n",
              "23                      Number of eligible women   6,911 10,914 17,825\n",
              "24          Number of eligible women interviewed   6,517 10,384 16,901\n",
              "25                                           NaN                   NaN\n",
              "26                 Eligible women response rate2        94.3 95.1 94.8\n",
              "27                                           NaN                   NaN\n",
              "28                 Interviews with men age 15–54                   NaN\n",
              "29                        Number of eligible men   6,134 10,418 16,552\n",
              "30            Number of eligible men interviewed    5,232 9,221 14,453\n",
              "31                                           NaN                   NaN\n",
              "32                   Eligible men response rate2        85.3 88.5 87.3\n",
              "33  HOUSEHOLDS SELECTED FOR SHORT QUESTIONNAIRES                   NaN\n",
              "34                          Household interviews                   NaN\n",
              "35                           Households selected   7,954 12,099 20,053\n",
              "36                           Households occupied   7,145 11,392 18,537\n",
              "37                        Households interviewed   6,901 11,263 18,164\n",
              "38                                           NaN                   NaN\n",
              "39                      Household response rate1        96.6 98.9 98.0\n",
              "40                                           NaN                   NaN\n",
              "41               Interviews with women age 15–49                   NaN\n",
              "42                      Number of eligible women    6,218 9,836 16,054\n",
              "43          Number of eligible women interviewed    5,869 9,386 15,255\n",
              "44                                           NaN                   NaN\n",
              "45                 Eligible women response rate2        94.4 95.4 95.0"
            ],
            "text/html": [
              "\n",
              "  <div id=\"df-522a5180-a8ad-4094-a771-6e875b238dd4\">\n",
              "    <div class=\"colab-df-container\">\n",
              "      <div>\n",
              "<style scoped>\n",
              "    .dataframe tbody tr th:only-of-type {\n",
              "        vertical-align: middle;\n",
              "    }\n",
              "\n",
              "    .dataframe tbody tr th {\n",
              "        vertical-align: top;\n",
              "    }\n",
              "\n",
              "    .dataframe thead th {\n",
              "        text-align: right;\n",
              "    }\n",
              "</style>\n",
              "<table border=\"1\" class=\"dataframe\">\n",
              "  <thead>\n",
              "    <tr style=\"text-align: right;\">\n",
              "      <th></th>\n",
              "      <th>Unnamed: 0</th>\n",
              "      <th>Residence</th>\n",
              "    </tr>\n",
              "  </thead>\n",
              "  <tbody>\n",
              "    <tr>\n",
              "      <th>0</th>\n",
              "      <td>Result</td>\n",
              "      <td>Urban Rural Total</td>\n",
              "    </tr>\n",
              "    <tr>\n",
              "      <th>1</th>\n",
              "      <td>NaN</td>\n",
              "      <td>ALL HOUSEHOLDS</td>\n",
              "    </tr>\n",
              "    <tr>\n",
              "      <th>2</th>\n",
              "      <td>Household interviews</td>\n",
              "      <td>NaN</td>\n",
              "    </tr>\n",
              "    <tr>\n",
              "      <th>3</th>\n",
              "      <td>Households selected</td>\n",
              "      <td>16,611 25,411 42,022</td>\n",
              "    </tr>\n",
              "    <tr>\n",
              "      <th>4</th>\n",
              "      <td>Households occupied</td>\n",
              "      <td>14,870 23,861 38,731</td>\n",
              "    </tr>\n",
              "    <tr>\n",
              "      <th>5</th>\n",
              "      <td>Households interviewed</td>\n",
              "      <td>14,330 23,581 37,911</td>\n",
              "    </tr>\n",
              "    <tr>\n",
              "      <th>6</th>\n",
              "      <td>NaN</td>\n",
              "      <td>NaN</td>\n",
              "    </tr>\n",
              "    <tr>\n",
              "      <th>7</th>\n",
              "      <td>Household response rate1</td>\n",
              "      <td>96.4 98.8 97.9</td>\n",
              "    </tr>\n",
              "    <tr>\n",
              "      <th>8</th>\n",
              "      <td>NaN</td>\n",
              "      <td>NaN</td>\n",
              "    </tr>\n",
              "    <tr>\n",
              "      <th>9</th>\n",
              "      <td>Interviews with women age 15–49</td>\n",
              "      <td>NaN</td>\n",
              "    </tr>\n",
              "    <tr>\n",
              "      <th>10</th>\n",
              "      <td>Number of eligible women</td>\n",
              "      <td>13,129 20,750 33,879</td>\n",
              "    </tr>\n",
              "    <tr>\n",
              "      <th>11</th>\n",
              "      <td>Number of eligible women interviewed</td>\n",
              "      <td>12,386 19,770 32,156</td>\n",
              "    </tr>\n",
              "    <tr>\n",
              "      <th>12</th>\n",
              "      <td>NaN</td>\n",
              "      <td>NaN</td>\n",
              "    </tr>\n",
              "    <tr>\n",
              "      <th>13</th>\n",
              "      <td>Eligible women response rate2</td>\n",
              "      <td>94.3 95.3 94.9</td>\n",
              "    </tr>\n",
              "    <tr>\n",
              "      <th>14</th>\n",
              "      <td>HOUSEHOLDS SELECTED FOR FULL QUESTIONNAIRES</td>\n",
              "      <td>NaN</td>\n",
              "    </tr>\n",
              "    <tr>\n",
              "      <th>15</th>\n",
              "      <td>Household interviews</td>\n",
              "      <td>NaN</td>\n",
              "    </tr>\n",
              "    <tr>\n",
              "      <th>16</th>\n",
              "      <td>Households selected</td>\n",
              "      <td>8,657 13,312 21,969</td>\n",
              "    </tr>\n",
              "    <tr>\n",
              "      <th>17</th>\n",
              "      <td>Households occupied</td>\n",
              "      <td>7,725 12,469 20,194</td>\n",
              "    </tr>\n",
              "    <tr>\n",
              "      <th>18</th>\n",
              "      <td>Households interviewed</td>\n",
              "      <td>7,429 12,318 19,747</td>\n",
              "    </tr>\n",
              "    <tr>\n",
              "      <th>19</th>\n",
              "      <td>NaN</td>\n",
              "      <td>NaN</td>\n",
              "    </tr>\n",
              "    <tr>\n",
              "      <th>20</th>\n",
              "      <td>Household response rate1</td>\n",
              "      <td>96.2 98.8 97.8</td>\n",
              "    </tr>\n",
              "    <tr>\n",
              "      <th>21</th>\n",
              "      <td>NaN</td>\n",
              "      <td>NaN</td>\n",
              "    </tr>\n",
              "    <tr>\n",
              "      <th>22</th>\n",
              "      <td>Interviews with women age 15–49</td>\n",
              "      <td>NaN</td>\n",
              "    </tr>\n",
              "    <tr>\n",
              "      <th>23</th>\n",
              "      <td>Number of eligible women</td>\n",
              "      <td>6,911 10,914 17,825</td>\n",
              "    </tr>\n",
              "    <tr>\n",
              "      <th>24</th>\n",
              "      <td>Number of eligible women interviewed</td>\n",
              "      <td>6,517 10,384 16,901</td>\n",
              "    </tr>\n",
              "    <tr>\n",
              "      <th>25</th>\n",
              "      <td>NaN</td>\n",
              "      <td>NaN</td>\n",
              "    </tr>\n",
              "    <tr>\n",
              "      <th>26</th>\n",
              "      <td>Eligible women response rate2</td>\n",
              "      <td>94.3 95.1 94.8</td>\n",
              "    </tr>\n",
              "    <tr>\n",
              "      <th>27</th>\n",
              "      <td>NaN</td>\n",
              "      <td>NaN</td>\n",
              "    </tr>\n",
              "    <tr>\n",
              "      <th>28</th>\n",
              "      <td>Interviews with men age 15–54</td>\n",
              "      <td>NaN</td>\n",
              "    </tr>\n",
              "    <tr>\n",
              "      <th>29</th>\n",
              "      <td>Number of eligible men</td>\n",
              "      <td>6,134 10,418 16,552</td>\n",
              "    </tr>\n",
              "    <tr>\n",
              "      <th>30</th>\n",
              "      <td>Number of eligible men interviewed</td>\n",
              "      <td>5,232 9,221 14,453</td>\n",
              "    </tr>\n",
              "    <tr>\n",
              "      <th>31</th>\n",
              "      <td>NaN</td>\n",
              "      <td>NaN</td>\n",
              "    </tr>\n",
              "    <tr>\n",
              "      <th>32</th>\n",
              "      <td>Eligible men response rate2</td>\n",
              "      <td>85.3 88.5 87.3</td>\n",
              "    </tr>\n",
              "    <tr>\n",
              "      <th>33</th>\n",
              "      <td>HOUSEHOLDS SELECTED FOR SHORT QUESTIONNAIRES</td>\n",
              "      <td>NaN</td>\n",
              "    </tr>\n",
              "    <tr>\n",
              "      <th>34</th>\n",
              "      <td>Household interviews</td>\n",
              "      <td>NaN</td>\n",
              "    </tr>\n",
              "    <tr>\n",
              "      <th>35</th>\n",
              "      <td>Households selected</td>\n",
              "      <td>7,954 12,099 20,053</td>\n",
              "    </tr>\n",
              "    <tr>\n",
              "      <th>36</th>\n",
              "      <td>Households occupied</td>\n",
              "      <td>7,145 11,392 18,537</td>\n",
              "    </tr>\n",
              "    <tr>\n",
              "      <th>37</th>\n",
              "      <td>Households interviewed</td>\n",
              "      <td>6,901 11,263 18,164</td>\n",
              "    </tr>\n",
              "    <tr>\n",
              "      <th>38</th>\n",
              "      <td>NaN</td>\n",
              "      <td>NaN</td>\n",
              "    </tr>\n",
              "    <tr>\n",
              "      <th>39</th>\n",
              "      <td>Household response rate1</td>\n",
              "      <td>96.6 98.9 98.0</td>\n",
              "    </tr>\n",
              "    <tr>\n",
              "      <th>40</th>\n",
              "      <td>NaN</td>\n",
              "      <td>NaN</td>\n",
              "    </tr>\n",
              "    <tr>\n",
              "      <th>41</th>\n",
              "      <td>Interviews with women age 15–49</td>\n",
              "      <td>NaN</td>\n",
              "    </tr>\n",
              "    <tr>\n",
              "      <th>42</th>\n",
              "      <td>Number of eligible women</td>\n",
              "      <td>6,218 9,836 16,054</td>\n",
              "    </tr>\n",
              "    <tr>\n",
              "      <th>43</th>\n",
              "      <td>Number of eligible women interviewed</td>\n",
              "      <td>5,869 9,386 15,255</td>\n",
              "    </tr>\n",
              "    <tr>\n",
              "      <th>44</th>\n",
              "      <td>NaN</td>\n",
              "      <td>NaN</td>\n",
              "    </tr>\n",
              "    <tr>\n",
              "      <th>45</th>\n",
              "      <td>Eligible women response rate2</td>\n",
              "      <td>94.4 95.4 95.0</td>\n",
              "    </tr>\n",
              "  </tbody>\n",
              "</table>\n",
              "</div>\n",
              "      <button class=\"colab-df-convert\" onclick=\"convertToInteractive('df-522a5180-a8ad-4094-a771-6e875b238dd4')\"\n",
              "              title=\"Convert this dataframe to an interactive table.\"\n",
              "              style=\"display:none;\">\n",
              "        \n",
              "  <svg xmlns=\"http://www.w3.org/2000/svg\" height=\"24px\"viewBox=\"0 0 24 24\"\n",
              "       width=\"24px\">\n",
              "    <path d=\"M0 0h24v24H0V0z\" fill=\"none\"/>\n",
              "    <path d=\"M18.56 5.44l.94 2.06.94-2.06 2.06-.94-2.06-.94-.94-2.06-.94 2.06-2.06.94zm-11 1L8.5 8.5l.94-2.06 2.06-.94-2.06-.94L8.5 2.5l-.94 2.06-2.06.94zm10 10l.94 2.06.94-2.06 2.06-.94-2.06-.94-.94-2.06-.94 2.06-2.06.94z\"/><path d=\"M17.41 7.96l-1.37-1.37c-.4-.4-.92-.59-1.43-.59-.52 0-1.04.2-1.43.59L10.3 9.45l-7.72 7.72c-.78.78-.78 2.05 0 2.83L4 21.41c.39.39.9.59 1.41.59.51 0 1.02-.2 1.41-.59l7.78-7.78 2.81-2.81c.8-.78.8-2.07 0-2.86zM5.41 20L4 18.59l7.72-7.72 1.47 1.35L5.41 20z\"/>\n",
              "  </svg>\n",
              "      </button>\n",
              "      \n",
              "  <style>\n",
              "    .colab-df-container {\n",
              "      display:flex;\n",
              "      flex-wrap:wrap;\n",
              "      gap: 12px;\n",
              "    }\n",
              "\n",
              "    .colab-df-convert {\n",
              "      background-color: #E8F0FE;\n",
              "      border: none;\n",
              "      border-radius: 50%;\n",
              "      cursor: pointer;\n",
              "      display: none;\n",
              "      fill: #1967D2;\n",
              "      height: 32px;\n",
              "      padding: 0 0 0 0;\n",
              "      width: 32px;\n",
              "    }\n",
              "\n",
              "    .colab-df-convert:hover {\n",
              "      background-color: #E2EBFA;\n",
              "      box-shadow: 0px 1px 2px rgba(60, 64, 67, 0.3), 0px 1px 3px 1px rgba(60, 64, 67, 0.15);\n",
              "      fill: #174EA6;\n",
              "    }\n",
              "\n",
              "    [theme=dark] .colab-df-convert {\n",
              "      background-color: #3B4455;\n",
              "      fill: #D2E3FC;\n",
              "    }\n",
              "\n",
              "    [theme=dark] .colab-df-convert:hover {\n",
              "      background-color: #434B5C;\n",
              "      box-shadow: 0px 1px 3px 1px rgba(0, 0, 0, 0.15);\n",
              "      filter: drop-shadow(0px 1px 2px rgba(0, 0, 0, 0.3));\n",
              "      fill: #FFFFFF;\n",
              "    }\n",
              "  </style>\n",
              "\n",
              "      <script>\n",
              "        const buttonEl =\n",
              "          document.querySelector('#df-522a5180-a8ad-4094-a771-6e875b238dd4 button.colab-df-convert');\n",
              "        buttonEl.style.display =\n",
              "          google.colab.kernel.accessAllowed ? 'block' : 'none';\n",
              "\n",
              "        async function convertToInteractive(key) {\n",
              "          const element = document.querySelector('#df-522a5180-a8ad-4094-a771-6e875b238dd4');\n",
              "          const dataTable =\n",
              "            await google.colab.kernel.invokeFunction('convertToInteractive',\n",
              "                                                     [key], {});\n",
              "          if (!dataTable) return;\n",
              "\n",
              "          const docLinkHtml = 'Like what you see? Visit the ' +\n",
              "            '<a target=\"_blank\" href=https://colab.research.google.com/notebooks/data_table.ipynb>data table notebook</a>'\n",
              "            + ' to learn more about interactive tables.';\n",
              "          element.innerHTML = '';\n",
              "          dataTable['output_type'] = 'display_data';\n",
              "          await google.colab.output.renderOutput(dataTable, element);\n",
              "          const docLink = document.createElement('div');\n",
              "          docLink.innerHTML = docLinkHtml;\n",
              "          element.appendChild(docLink);\n",
              "        }\n",
              "      </script>\n",
              "    </div>\n",
              "  </div>\n",
              "  "
            ]
          },
          "metadata": {},
          "execution_count": 32
        }
      ]
    },
    {
      "cell_type": "markdown",
      "source": [
        "**Step 5:** Save table"
      ],
      "metadata": {
        "id": "rJD4tIIpk2Fb"
      }
    },
    {
      "cell_type": "code",
      "source": [
        "table[0].to_csv('/content/Table_1.csv', index = False)"
      ],
      "metadata": {
        "id": "V8B74Vrhgnc5"
      },
      "execution_count": 35,
      "outputs": []
    },
    {
      "cell_type": "code",
      "source": [],
      "metadata": {
        "id": "jZ4RhOITlJ0Z"
      },
      "execution_count": null,
      "outputs": []
    }
  ]
}